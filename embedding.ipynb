{
 "cells": [
  {
   "cell_type": "code",
   "execution_count": 1,
   "metadata": {
    "collapsed": true
   },
   "outputs": [],
   "source": [
    "import gensim\n",
    "import numpy as np\n",
    "\n",
    "# Load Google's pre-trained Word2Vec model.\n",
    "model_file = '/Users/amineboubezari/Downloads/GoogleNews-vectors-negative300.bin'\n",
    "saved_file = '/Users/amineboubezari/Downloads/wv_model'\n",
    "\n",
    "#model = gensim.models.KeyedVectors.load_word2vec_format(model_file, binary=True)\n",
    "#word_vectors = model.wv\n",
    "#word_vectors.save(saved_file)\n",
    "wv = gensim.models.KeyedVectors.load(saved_file)"
   ]
  },
  {
   "cell_type": "code",
   "execution_count": null,
   "metadata": {
    "collapsed": false
   },
   "outputs": [],
   "source": [
    "# filter out to keep only commmon nouns\n",
    "\n",
    "wv.most_similar_cosmul(positive=['happy'], topn=3)\n",
    "word = 'job'\n",
    "vec2 = wv.word_vec(word, use_norm=True)\n",
    "\n",
    "similar_words = [val[0] for val in wv.similar_by_vector((vec2), topn=30, restrict_vocab=None)]\n",
    "similar_words_alt = wv.most_similar_cosmul(positive=[word], topn=100)\n",
    "similar_words = [word for word in similar_words if word.lower() == word]\n",
    "\n",
    "comp = wv.most_similar_to_given('emotion', similar_words)\n",
    "print (similar_words)\n",
    "print (comp)"
   ]
  },
  {
   "cell_type": "code",
   "execution_count": null,
   "metadata": {
    "collapsed": true
   },
   "outputs": [],
   "source": []
  }
 ],
 "metadata": {
  "kernelspec": {
   "display_name": "Python 3",
   "language": "python",
   "name": "python3"
  },
  "language_info": {
   "codemirror_mode": {
    "name": "ipython",
    "version": 3
   },
   "file_extension": ".py",
   "mimetype": "text/x-python",
   "name": "python",
   "nbconvert_exporter": "python",
   "pygments_lexer": "ipython3",
   "version": "3.6.0"
  }
 },
 "nbformat": 4,
 "nbformat_minor": 2
}
